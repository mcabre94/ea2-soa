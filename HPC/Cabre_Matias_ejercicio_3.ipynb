{
  "nbformat": 4,
  "nbformat_minor": 0,
  "metadata": {
    "colab": {
      "name": "Cabre_Matias_ejercicio_3",
      "provenance": [],
      "collapsed_sections": []
    },
    "kernelspec": {
      "name": "python3",
      "display_name": "Python 3"
    }
  },
  "cells": [
    {
      "cell_type": "markdown",
      "metadata": {
        "id": "qoYPFWcielY3"
      },
      "source": [
        "# 1 Introducción\n",
        "\n",
        "El ejercicio 3 de la tercera evaluación de aprendizaje tomará como entrada una cadena de caracteres, contará las ocurrencias de cada palabra en la cadena, y mostrará por pantalla las 10 palabras que mas se repiten, especificando el número de veces que aparece cada una.\n",
        "\n",
        "Para esto, compararemos el algoritmo ejecutando secuencialmente con el mismo algoritmo haciendo uso de threads mediante OPEN MP.\n",
        "\n",
        "Para que la muestra sea considerable, se repite la cuenta de palabras 10000 veces, de manera que sea mas coherente el uso de la paralelización de tareas en el script.\n",
        "\n",
        "\n"
      ]
    },
    {
      "cell_type": "markdown",
      "metadata": {
        "id": "32YB71STfPcy"
      },
      "source": [
        "---\n",
        "# 2 Armado del ambiente\n",
        "\n",
        "No requiere de un armado particular"
      ]
    },
    {
      "cell_type": "markdown",
      "metadata": {
        "id": "Xt4Pea0Psrx_"
      },
      "source": [
        "---\n",
        "# 3 Desarrollo\n",
        "\n",
        "\n"
      ]
    },
    {
      "cell_type": "markdown",
      "metadata": {
        "id": "fiHlh6tVbNk0"
      },
      "source": [
        "\n",
        "## OPEN MP\n",
        "Ejecución del algoritmo contador de palabras secuencialmente y paralelamente con open mp."
      ]
    },
    {
      "cell_type": "code",
      "metadata": {
        "id": "8_uVXVJjz_Jr"
      },
      "source": [
        "# Codigo Python, que tiene el código C de la ejecución.\n",
        "code = \"\"\"\n",
        "// Axpy con OpenMP, usando c, ejecutado en Colab. \n",
        "\n",
        "#include <iostream>\n",
        "#include <vector>\n",
        "#include <cstdlib>\n",
        "#include <sys/time.h>\n",
        "#include <omp.h>    // Cabecera OpenMP   \n",
        "#include <sstream>\n",
        "#include <map>\n",
        "#include <bits/stdc++.h> \n",
        "\n",
        "\n",
        "\n",
        "// ----------------------------------------------------------------------------\n",
        "// Macros que miden el tiempo.\n",
        "\n",
        "static double dHashTiempoHistory[3];\n",
        "static struct timeval tv;\n",
        "\n",
        "#define TIEMPO_INI( h )      \\\n",
        "   gettimeofday(&tv,NULL);   \\\n",
        "   dHashTiempoHistory[ h ] = tv.tv_sec + tv.tv_usec/1000000.0;\n",
        "   \n",
        "   \n",
        "#define TIEMPO_FIN( h )      \\\n",
        "   gettimeofday(&tv,NULL);   \\\n",
        "   dHashTiempoHistory[ h ] = ((tv.tv_sec + tv.tv_usec/1000000.0) - dHashTiempoHistory[ h ]) * 1000; // Devuelvo en milisegundos\n",
        "#define TIEMPO_GET( h ) dHashTiempoHistory[ h ]\n",
        "\n",
        "#define HTH_FOR_SEQ         1\n",
        "#define HTH_FOR_OPENMP      2\n",
        "#define HTH_TOTAL           3\n",
        "\n",
        "using namespace std;\n",
        "\n",
        "// ----------------------------------------------------------------------------\n",
        "// Función comparación \n",
        "bool cmp(pair<string, int>& a, \n",
        "         pair<string, int>& b) \n",
        "{ \n",
        "    return a.second > b.second; \n",
        "} \n",
        "  \n",
        "//Función que ordena los elementos del map y los imprime.\n",
        "void show_results(map<string, int>& M) \n",
        "{ \n",
        "  \n",
        "    // Declare vector of pairs \n",
        "    vector<pair<string, int> > A; \n",
        "  \n",
        "    // Copy key-value pair from Map \n",
        "    // to vector of pairs \n",
        "    for (auto& it : M) { \n",
        "        A.push_back(it); \n",
        "    } \n",
        "  \n",
        "    // Sort using comparator function \n",
        "    sort(A.begin(), A.end(), cmp); \n",
        "  \n",
        "    // Print the sorted value \n",
        "    cout << \"**********TOP 10 palabras mas utilizadas***********\" << endl;\n",
        "    for (int i = 0 ; i < 10 ; i++) { \n",
        "        \n",
        "        cout << A[i].first << '\\t'\n",
        "             << A[i].second << endl; \n",
        "    } \n",
        "    cout << \"*******************FIN TOP 10**********************\" << endl;\n",
        "} \n",
        "\n",
        "int main(int argc, char* argv[]) \n",
        "{ \n",
        "  int i = 0;\n",
        "  TIEMPO_INI( HTH_TOTAL )\n",
        "\n",
        "  // Leo los parametros.\n",
        "  if( argc != 2 )\n",
        "  {\n",
        "      std::cerr<< \" Error en los parametros de indicar: (cadena de caracteres).\"<<argc<<std::endl;\n",
        "      exit( -1 );\n",
        "  }\n",
        "\n",
        "  string cadena_caracteres = argv[1];\n",
        "\n",
        "  // --------------------------------------------\n",
        "  // Defino la memoria de los vectores.\n",
        "\n",
        "  stringstream ssin(cadena_caracteres);\n",
        "  map<string,int> map, map_valores_reales = {};\n",
        "  vector<string> vector;\n",
        " \n",
        "  while (ssin.good()){\n",
        "      string palabra;\n",
        "      ssin >> palabra;\n",
        "      vector.push_back(palabra);\n",
        "      map[palabra] = 0;\n",
        "      map_valores_reales[palabra] = 0;\n",
        "  }\n",
        "\n",
        "  for(int i = 0; i <vector.size(); i++){\n",
        "    map_valores_reales[vector[i]]++;\n",
        "  }\n",
        "\n",
        "  TIEMPO_INI( HTH_FOR_SEQ )\n",
        "  for(int j = 0 ; j < 10000; j++){\n",
        "    for(int i = 0; i <vector.size(); i++){\n",
        "      map[vector[i]]++;\n",
        "    }\n",
        "  }\n",
        "  TIEMPO_FIN( HTH_FOR_SEQ )\n",
        "  \n",
        "  TIEMPO_INI( HTH_FOR_OPENMP )\n",
        "  for(int j = 0 ; j < 10000; j++){\n",
        "    #pragma omp parallel for\n",
        "    for(int i = 0; i <vector.size(); i++){\n",
        "      map[vector[i]]++;\n",
        "    }\n",
        "  }\n",
        "  TIEMPO_FIN( HTH_FOR_OPENMP )\n",
        "  cout << \"************ Valores con cantidad de palabras real *****************\" << endl;\n",
        "  cout << endl;\n",
        "  show_results(map_valores_reales);\n",
        "\n",
        "  cout << endl;\n",
        "  cout << \"************ Valores con cantidad de palabras multiplicadas *****************\" << endl;\n",
        "  cout << endl;\n",
        "  show_results(map);\n",
        "  cout << endl;\n",
        "  TIEMPO_FIN( HTH_TOTAL )\n",
        "\n",
        "  cout << endl;\n",
        "  cout << \"************ TIEMPOS *****************\" << endl;\n",
        "  cout << \"Tiempo contador palabras secuencial  : \"<<TIEMPO_GET(HTH_FOR_SEQ)<<\" [ms]\" << endl;\n",
        "  cout << \"Tiempo contador palabras openmp: \"<<TIEMPO_GET(HTH_FOR_OPENMP)<<\" [ms]\" << endl;\n",
        "  cout << \"Tiempo total  : \"<<TIEMPO_GET(HTH_TOTAL)<<\" [ms]\" << endl;\n",
        "  cout << \"*********** FIN TIEMPOS **************\";\n",
        "  cout << endl << endl;\n",
        "\n",
        "  std::cout<<\"Valores Reales  :\" <<std::endl;\n",
        "  std::cout<<\"SpeedUp          : (tiempo Secuencial/tiempo paralelo) : \"<<TIEMPO_GET(HTH_FOR_SEQ)<<\" / \"<<TIEMPO_GET(HTH_FOR_OPENMP)<<\" = \"<<TIEMPO_GET(HTH_FOR_SEQ)/TIEMPO_GET(HTH_FOR_OPENMP)<<std::endl;\n",
        "  std::cout<<\"Eficiencia       : SpeedUp/nro procesadores            : \"<<TIEMPO_GET(HTH_FOR_SEQ)/TIEMPO_GET(HTH_FOR_OPENMP)<<\" / \"<<omp_get_num_procs()<<\" = \"<<TIEMPO_GET(HTH_FOR_SEQ)/(omp_get_num_procs()*TIEMPO_GET(HTH_FOR_OPENMP))<<std::endl;\n",
        "  std::cout<<\"Coste Sec        : nro procesadores*Tiempo             : \"<<1<<\" * \"<<TIEMPO_GET(HTH_FOR_SEQ)<<\" = \"<<TIEMPO_GET(HTH_FOR_SEQ)<<std::endl;\n",
        "  std::cout<<\"Coste Omp        : nro procesadores*Tiempo             : \"<<omp_get_num_procs()<<\" * \"<<TIEMPO_GET(HTH_FOR_OPENMP)<<\" = \"<<omp_get_num_procs()*TIEMPO_GET(HTH_FOR_OPENMP)<<std::endl;\n",
        "  std::cout<<\"Funcion Overhead : Coste Omp - tiempo Secuencial       : \"<<omp_get_num_procs()*TIEMPO_GET(HTH_FOR_OPENMP)<<\" - \"<<TIEMPO_GET(HTH_FOR_SEQ)<<\" = \"<<(omp_get_num_procs()*TIEMPO_GET(HTH_FOR_OPENMP))-TIEMPO_GET(HTH_FOR_SEQ)<<std::endl;\n",
        "}\n",
        "// ----------------------------------------------------------------------------\n",
        "\"\"\"\n",
        "text_file = open(\"code.cpp\", \"w\")\n",
        "text_file.write(code)\n",
        "text_file.close()"
      ],
      "execution_count": 1,
      "outputs": []
    },
    {
      "cell_type": "markdown",
      "metadata": {
        "id": "50kFA0wbw9PS"
      },
      "source": [
        "#Compilación"
      ]
    },
    {
      "cell_type": "code",
      "metadata": {
        "id": "H9zoM0OpxBNP"
      },
      "source": [
        "!g++ -o app -fopenmp code.cpp"
      ],
      "execution_count": 2,
      "outputs": []
    },
    {
      "cell_type": "markdown",
      "metadata": {
        "id": "mENoQfBjxC1M"
      },
      "source": [
        "#Ejecución"
      ]
    },
    {
      "cell_type": "code",
      "metadata": {
        "colab": {
          "base_uri": "https://localhost:8080/"
        },
        "id": "TLt-z7IuxEeU",
        "outputId": "7e9d7abd-8469-41c0-80eb-efb7394380b4"
      },
      "source": [
        "%env OMP_NUM_THREADS=2\n",
        "!./app \"Esto es una prueba, para ver como se cuentan las palabras de estas oraciones. Estas palabras se cuentan de una en una. \\\n",
        "Se cuentan a través de un algoritmo secuencial, y también a través de un algoritmo paralelizado.\""
      ],
      "execution_count": 3,
      "outputs": [
        {
          "output_type": "stream",
          "text": [
            "env: OMP_NUM_THREADS=2\n",
            "************ Valores con cantidad de palabras real *****************\n",
            "\n",
            "**********TOP 10 palabras mas utilizadas***********\n",
            "de\t4\n",
            "cuentan\t3\n",
            "a\t2\n",
            "algoritmo\t2\n",
            "una\t2\n",
            "un\t2\n",
            "través\t2\n",
            "palabras\t2\n",
            "se\t2\n",
            "y\t1\n",
            "*******************FIN TOP 10**********************\n",
            "\n",
            "************ Valores con cantidad de palabras multiplicadas *****************\n",
            "\n",
            "**********TOP 10 palabras mas utilizadas***********\n",
            "de\t80000\n",
            "cuentan\t60000\n",
            "a\t40000\n",
            "algoritmo\t40000\n",
            "una\t40000\n",
            "un\t40000\n",
            "través\t40000\n",
            "palabras\t40000\n",
            "se\t40000\n",
            "y\t20000\n",
            "*******************FIN TOP 10**********************\n",
            "\n",
            "\n",
            "************ TIEMPOS *****************\n",
            "Tiempo contador palabras secuencial  : 101.268 [ms]\n",
            "Tiempo contador palabras openmp: 77.0769 [ms]\n",
            "Tiempo total  : 178.785 [ms]\n",
            "*********** FIN TIEMPOS **************\n",
            "\n",
            "Valores Reales  :\n",
            "SpeedUp          : (tiempo Secuencial/tiempo paralelo) : 101.268 / 77.0769 = 1.31386\n",
            "Eficiencia       : SpeedUp/nro procesadores            : 1.31386 / 2 = 0.656929\n",
            "Coste Sec        : nro procesadores*Tiempo             : 1 * 101.268 = 101.268\n",
            "Coste Omp        : nro procesadores*Tiempo             : 2 * 77.0769 = 154.154\n",
            "Funcion Overhead : Coste Omp - tiempo Secuencial       : 154.154 - 101.268 = 52.8858\n"
          ],
          "name": "stdout"
        }
      ]
    },
    {
      "cell_type": "markdown",
      "metadata": {
        "id": "zqAv4Gt7qRrh"
      },
      "source": [
        "---\n",
        "# 4 Tabla de pasos\n",
        "\n",
        "\n",
        " Procesador | Funciòn | Detalle\n",
        "------------|---------|----------\n",
        "CPU      |  TIEMPO_INI       | Se inicializa el temporizador para poder tomar metricas \n",
        "CPU      |  if(argc != 2)  | Se válida que los parametros sean los adecuados \n",
        "CPU      |  ssin(cadena_caracteres)    | Defino las variables necesarias para contar las palabras.\n",
        "CPU      |  while               | Se separa el string completo el palabras\n",
        "CPU      |  for(vector.size())        | Cuenta la cantidad de ocurrencias de las palabras. (cuenta una vez cada ocurrencia)\n",
        "CPU      |  //for secuencial          | Se ejecuta la cuenta de cantidad de palabras repetidamente 10000 veces de forma secuencial\n",
        "CPU **OPENMP**     |  //for con open mp | Se ejecuta la cuenta de cantidad de palabras repetidamente 10000 veces de forma paralela con open mp\n",
        "CPU  |  TIEMPO_FIN      | finaliza los temporizadores\n",
        "CPU  |  show_results    | ordena el diccionario de mayor a menor en ocurrencias e imprime el top 10 de palabras con mas ocurrencia\n",
        "CPU  |  cout    | Imprime por pantalla las métricas de openmp"
      ]
    },
    {
      "cell_type": "markdown",
      "metadata": {
        "id": "Qtiz4_7bmaDe"
      },
      "source": [
        "---\n",
        "# 5 Conclusiones\n",
        "\n",
        "A lo largo de este cuaderno ejecutamos un algoritmo que cuenta la cantidad de palabras del texto que le otorgemos como parámetro y nos devuelve una lista de las 10 palabras con mayor ocurrencia.\n",
        "\n",
        " Se ejecutó este algoritmo tanto secuencial como paralelamente. Podemos ver que al repetir el proceso 10000 veces, simulando una cadena de caracteres muy grande, el algoritmo ejecutado en openmp es más rápido que el ejecutado secuencialmente, con un SpeedUp de 1.30 en promedio. En cambio si ejecutamos el algoritmo sin repetir las 10000 veces, y con un texto chico, no es conveniente paralelizarlo, ya que nos da un speedUP de 0.01. Esto puede ser debido a que le lleve mas tiempo crear nuevos threads, eliminarlos, y el manejo intermedio que realiza, que lo que tarda en recorrer y contar algunas pocas palabras.\n",
        "\n",
        "En conclusión es muy conveniente utilizar openMP para textos muy grandes, ya que nos da una ganancia considerable de tiempo. En cambio, para textos cortos, no es muy conveniente hacerlo.\n",
        "\n",
        "Para consideraciones futuras, sería interesante probarlo con textos aún mas importantes, de millones de palabras, para ver como performa."
      ]
    },
    {
      "cell_type": "markdown",
      "metadata": {
        "id": "ufDYy0LPmbYH"
      },
      "source": [
        "---\n",
        "# 6 Bibliografía\n",
        "\n",
        "[1] Referencia std::vector y std::map : [Documentación](http://www.cplusplus.com/reference/stl/)\n",
        "\n",
        "[2] OpenMP: [Página OpenMP](https://www.openmp.org/) \n"
      ]
    }
  ]
}